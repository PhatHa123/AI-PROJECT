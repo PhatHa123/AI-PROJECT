{
  "nbformat": 4,
  "nbformat_minor": 0,
  "metadata": {
    "colab": {
      "name": "PalmHandClassify.ipynb",
      "provenance": [],
      "collapsed_sections": []
    },
    "kernelspec": {
      "name": "python3",
      "display_name": "Python 3"
    },
    "language_info": {
      "name": "python"
    },
    "accelerator": "GPU"
  },
  "cells": [
    {
      "cell_type": "markdown",
      "source": [
        "# ***IMPORT LIBRARY***\n"
      ],
      "metadata": {
        "id": "L_ZdajcROaD0"
      }
    },
    {
      "cell_type": "code",
      "execution_count": null,
      "metadata": {
        "id": "tFX4Z5z9Md14"
      },
      "outputs": [],
      "source": [
        "from tensorflow.keras.preprocessing.image import ImageDataGenerator\n",
        "from tensorflow.keras.preprocessing import image\n",
        "from tensorflow.keras.optimizers import SGD, RMSprop\n",
        "from tensorflow.keras.utils import to_categorical\n",
        "import matplotlib.pyplot as plt\n",
        "from tensorflow.keras.models import load_model\n",
        "import tensorflow as  tf\n",
        "import numpy as np\n",
        "import cv2\n",
        "import os\n",
        "from keras.utils import np_utils\n",
        "from tensorflow.keras.callbacks import EarlyStopping, ModelCheckpoint, ReduceLROnPlateau\n",
        "from keras.models import Sequential\n",
        "from keras.layers import Dense,Flatten, Dropout\n",
        "from tensorflow.keras.utils import load_img\n",
        "from tensorflow.keras.utils import img_to_array\n",
        "from keras.layers import Conv2D, MaxPooling2D"
      ]
    },
    {
      "cell_type": "markdown",
      "source": [
        "# ***PREPROCESSING***"
      ],
      "metadata": {
        "id": "kIKRPo_9_KsO"
      }
    },
    {
      "cell_type": "code",
      "source": [
        "train = ImageDataGenerator(rescale = 1./255,\n",
        "                                   shear_range = 0.2,\n",
        "                                   zoom_range = 0.2,\n",
        "                                   horizontal_flip = True)\n",
        "validation = ImageDataGenerator(rescale = 1./255)"
      ],
      "metadata": {
        "id": "yMeoAmAgZvcX"
      },
      "execution_count": null,
      "outputs": []
    },
    {
      "cell_type": "code",
      "source": [
        "train_set=train.flow_from_directory('/content/drive/MyDrive/PalmHand/Train',target_size = (64,64),batch_size = 12,class_mode = 'categorical')\n",
        "test_set=validation.flow_from_directory('/content/drive/MyDrive/PalmHand/Validate',target_size = (64,64),batch_size = 12,class_mode = 'categorical')"
      ],
      "metadata": {
        "id": "s7eBMsciOgH2",
        "colab": {
          "base_uri": "https://localhost:8080/"
        },
        "outputId": "0c2bae28-0f8f-44cb-b14a-173bb84b6b13"
      },
      "execution_count": null,
      "outputs": [
        {
          "output_type": "stream",
          "name": "stdout",
          "text": [
            "Found 120 images belonging to 4 classes.\n",
            "Found 20 images belonging to 4 classes.\n"
          ]
        }
      ]
    },
    {
      "cell_type": "code",
      "source": [
        "train_set.class_indices"
      ],
      "metadata": {
        "colab": {
          "base_uri": "https://localhost:8080/"
        },
        "id": "pgKYfG30WcAU",
        "outputId": "bada5710-ba7f-4491-c609-2e4833fc6057"
      },
      "execution_count": null,
      "outputs": [
        {
          "output_type": "execute_result",
          "data": {
            "text/plain": [
              "{'PalmarLeft': 0, 'dorsalLeft': 1, 'dorsalRight': 2, 'palmarRight': 3}"
            ]
          },
          "metadata": {},
          "execution_count": 4
        }
      ]
    },
    {
      "cell_type": "markdown",
      "source": [
        "# ***CREATE MODEL***"
      ],
      "metadata": {
        "id": "nZ-i3410_PeP"
      }
    },
    {
      "cell_type": "code",
      "source": [
        "model = tf.keras.models.Sequential(\n",
        "    [ tf.keras.layers.Conv2D(32,(3,3),activation = 'relu',kernel_initializer='he_uniform',padding='same',input_shape =(64,64,3)),\n",
        "      tf.keras.layers.Conv2D(32,(3,3),activation = 'relu',kernel_initializer='he_uniform',padding='same'),\n",
        "      tf.keras.layers.MaxPool2D(2,2),\n",
        "\n",
        "      tf.keras.layers.Conv2D(32,(3,3),activation = 'relu',kernel_initializer='he_uniform',padding='same'),\n",
        "      tf.keras.layers.Conv2D(32,(3,3),activation = 'relu',kernel_initializer='he_uniform',padding='same'),\n",
        "      tf.keras.layers.MaxPool2D(2,2),\n",
        "\n",
        "      tf.keras.layers.Conv2D(64,(3,3),activation = 'relu',kernel_initializer='he_uniform',padding='same'),\n",
        "      tf.keras.layers.Conv2D(64,(3,3),activation = 'relu',kernel_initializer='he_uniform',padding='same'),\n",
        "      tf.keras.layers.MaxPool2D(2,2),\n",
        "     \n",
        "\n",
        "     \n",
        "      tf.keras.layers.Flatten(),\n",
        "      tf.keras.layers.Dense(256,activation = 'relu',kernel_initializer='he_uniform'),\n",
        "      tf.keras.layers.Dense(4,activation='softmax')])\n",
        "model.summary()"
      ],
      "metadata": {
        "colab": {
          "base_uri": "https://localhost:8080/"
        },
        "id": "iFg6wMrdWxdu",
        "outputId": "e5fecca0-5915-4aee-83e5-5b0b4cdc04ea"
      },
      "execution_count": null,
      "outputs": [
        {
          "output_type": "stream",
          "name": "stdout",
          "text": [
            "Model: \"sequential_2\"\n",
            "_________________________________________________________________\n",
            " Layer (type)                Output Shape              Param #   \n",
            "=================================================================\n",
            " conv2d_24 (Conv2D)          (None, 64, 64, 32)        896       \n",
            "                                                                 \n",
            " conv2d_25 (Conv2D)          (None, 64, 64, 32)        9248      \n",
            "                                                                 \n",
            " max_pooling2d_12 (MaxPoolin  (None, 32, 32, 32)       0         \n",
            " g2D)                                                            \n",
            "                                                                 \n",
            " conv2d_26 (Conv2D)          (None, 32, 32, 32)        9248      \n",
            "                                                                 \n",
            " conv2d_27 (Conv2D)          (None, 32, 32, 32)        9248      \n",
            "                                                                 \n",
            " max_pooling2d_13 (MaxPoolin  (None, 16, 16, 32)       0         \n",
            " g2D)                                                            \n",
            "                                                                 \n",
            " conv2d_28 (Conv2D)          (None, 16, 16, 64)        18496     \n",
            "                                                                 \n",
            " conv2d_29 (Conv2D)          (None, 16, 16, 64)        36928     \n",
            "                                                                 \n",
            " max_pooling2d_14 (MaxPoolin  (None, 8, 8, 64)         0         \n",
            " g2D)                                                            \n",
            "                                                                 \n",
            " flatten_2 (Flatten)         (None, 4096)              0         \n",
            "                                                                 \n",
            " dense_4 (Dense)             (None, 256)               1048832   \n",
            "                                                                 \n",
            " dense_5 (Dense)             (None, 4)                 1028      \n",
            "                                                                 \n",
            "=================================================================\n",
            "Total params: 1,133,924\n",
            "Trainable params: 1,133,924\n",
            "Non-trainable params: 0\n",
            "_________________________________________________________________\n"
          ]
        }
      ]
    },
    {
      "cell_type": "code",
      "source": [
        "opt = SGD(lr=0.001, momentum=0.9)\n",
        "model.compile(optimizer=opt, loss='categorical_crossentropy', metrics = ['accuracy'])"
      ],
      "metadata": {
        "colab": {
          "base_uri": "https://localhost:8080/"
        },
        "id": "-YBWI-RiW667",
        "outputId": "833aa50e-23c1-4a28-ac53-05bf7a509577"
      },
      "execution_count": null,
      "outputs": [
        {
          "output_type": "stream",
          "name": "stderr",
          "text": [
            "/usr/local/lib/python3.7/dist-packages/keras/optimizer_v2/gradient_descent.py:102: UserWarning: The `lr` argument is deprecated, use `learning_rate` instead.\n",
            "  super(SGD, self).__init__(name, **kwargs)\n"
          ]
        }
      ]
    },
    {
      "cell_type": "markdown",
      "source": [
        "# ***TRAINNING MODEL***"
      ],
      "metadata": {
        "id": "o9600SLG_TuL"
      }
    },
    {
      "cell_type": "code",
      "source": [
        "history = model.fit(train_set,batch_size=5,epochs=5,verbose=1,validation_data=test_set)"
      ],
      "metadata": {
        "colab": {
          "base_uri": "https://localhost:8080/"
        },
        "id": "o28oByUxW_kB",
        "outputId": "147ea278-3f26-4c44-bc4a-9c7a41e12d61"
      },
      "execution_count": null,
      "outputs": [
        {
          "output_type": "stream",
          "name": "stdout",
          "text": [
            "Epoch 1/5\n",
            "10/10 [==============================] - 3s 323ms/step - loss: 0.5930 - accuracy: 0.7833 - val_loss: 2.0720 - val_accuracy: 0.4500\n",
            "Epoch 2/5\n",
            "10/10 [==============================] - 3s 297ms/step - loss: 0.4268 - accuracy: 0.8500 - val_loss: 2.5893 - val_accuracy: 0.5000\n",
            "Epoch 3/5\n",
            "10/10 [==============================] - 3s 294ms/step - loss: 0.4323 - accuracy: 0.8333 - val_loss: 2.2586 - val_accuracy: 0.2500\n",
            "Epoch 4/5\n",
            "10/10 [==============================] - 3s 298ms/step - loss: 0.5342 - accuracy: 0.7750 - val_loss: 2.1582 - val_accuracy: 0.5000\n",
            "Epoch 5/5\n",
            "10/10 [==============================] - 3s 306ms/step - loss: 0.3574 - accuracy: 0.9000 - val_loss: 2.1885 - val_accuracy: 0.5500\n"
          ]
        }
      ]
    },
    {
      "cell_type": "code",
      "source": [
        "plt.plot(history.history['accuracy'])\n",
        "plt.plot(history.history['val_accuracy'])\n",
        "plt.title('Model Accuracy')\n",
        "plt.ylabel('accuracy')\n",
        "plt.xlabel('epoch')\n",
        "plt.legend(['Train','validation'],loc='upper left')\n",
        "plt.show()"
      ],
      "metadata": {
        "id": "HINwC_hCXCnS",
        "colab": {
          "base_uri": "https://localhost:8080/",
          "height": 295
        },
        "outputId": "05359183-56bc-438b-8e10-5043e4da79da"
      },
      "execution_count": null,
      "outputs": [
        {
          "output_type": "display_data",
          "data": {
            "text/plain": [
              "<Figure size 432x288 with 1 Axes>"
            ],
            "image/png": "[encoded data removed]"
          },
          "metadata": {
            "needs_background": "light"
          }
        }
      ]
    },
    {
      "cell_type": "markdown",
      "source": [
        "# ***EVALUATE***"
      ],
      "metadata": {
        "id": "Y53xElQm_Yqc"
      }
    },
    {
      "cell_type": "code",
      "source": [
        "score=model.evaluate(test_set,verbose=1)\n",
        "print('Loss: ',score[0])\n",
        "print('Accuracy: ',score[1])"
      ],
      "metadata": {
        "id": "Gao5CWcKXHLC",
        "colab": {
          "base_uri": "https://localhost:8080/"
        },
        "outputId": "b98bfc51-a40d-42b4-e5bc-f694fc2da0af"
      },
      "execution_count": null,
      "outputs": [
        {
          "output_type": "stream",
          "name": "stdout",
          "text": [
            "2/2 [==============================] - 0s 158ms/step - loss: 2.1885 - accuracy: 0.5500\n",
            "Loss:  2.1884994506835938\n",
            "Accuracy:  0.550000011920929\n"
          ]
        }
      ]
    },
    {
      "cell_type": "code",
      "source": [
        "model.save('PalmHand.h5')"
      ],
      "metadata": {
        "id": "bCSJeYCHvsq9"
      },
      "execution_count": null,
      "outputs": []
    },
    {
      "cell_type": "code",
      "source": [
        "from tensorflow.keras.models import load_model\n",
        "model1=load_model('PalmHand.h5')"
      ],
      "metadata": {
        "id": "-SF8Qb_y0iwL"
      },
      "execution_count": null,
      "outputs": []
    },
    {
      "cell_type": "markdown",
      "source": [
        "# ***TESTING***"
      ],
      "metadata": {
        "id": "V3Dc_bQBDLYV"
      }
    },
    {
      "cell_type": "code",
      "source": [
        "\n",
        "def predict(result):\n",
        "  if result.round()[0,0]==1:\n",
        "    print('dự đoán: tay trái ngửa')\n",
        "  elif result.round()[0,1]==1:\n",
        "    print('dự đoán: tay trái úp')\n",
        "  elif result.round()[0,2]==1:\n",
        "    print('dự đoán: tay phải úp')\n",
        "  elif result.round()[0,3]==1:\n",
        "    print('dự đoán: tay phải ngửa')\n"
      ],
      "metadata": {
        "id": "Yjj475To0pnw"
      },
      "execution_count": null,
      "outputs": []
    },
    {
      "cell_type": "code",
      "source": [
        "test_img=load_img('/content/drive/MyDrive/PalmHand/Test/palmarRight/Hand_0000267.png',target_size=(64,64))\n",
        "plt.imshow(test_img)\n",
        "test_img= img_to_array(test_img)\n",
        "test_img=test_img/255\n",
        "test_img=np.expand_dims(test_img,axis=0)\n",
        "result=model1.predict(test_img)\n",
        "predict(result)\n"
      ],
      "metadata": {
        "colab": {
          "base_uri": "https://localhost:8080/",
          "height": 285
        },
        "id": "qm6vUdWL1LVj",
        "outputId": "1ea64eb5-1524-49f7-f286-bd778191a987"
      },
      "execution_count": null,
      "outputs": [
        {
          "output_type": "stream",
          "name": "stdout",
          "text": [
            "dự đoán: tay phải ngửa\n"
          ]
        },
        {
          "output_type": "display_data",
          "data": {
            "text/plain": [
              "<Figure size 432x288 with 1 Axes>"
            ],
            "image/png": "[encoded data removed]"
          },
          "metadata": {
            "needs_background": "light"
          }
        }
      ]
    },
    {
      "cell_type": "code",
      "source": [
        "test_img=load_img('/content/drive/MyDrive/PalmHand/Test/dorsalRight/Hand_0000227.png',target_size=(64,64))\n",
        "plt.imshow(test_img)\n",
        "test_img= img_to_array(test_img)\n",
        "test_img=test_img/255\n",
        "test_img=np.expand_dims(test_img,axis=0)\n",
        "result=model1.predict(test_img)\n",
        "predict(result)"
      ],
      "metadata": {
        "colab": {
          "base_uri": "https://localhost:8080/",
          "height": 285
        },
        "id": "BtYrOTal7QdM",
        "outputId": "4999f365-f0b0-49c8-a45d-d3b4a257c98a"
      },
      "execution_count": null,
      "outputs": [
        {
          "output_type": "stream",
          "name": "stdout",
          "text": [
            "dự đoán: tay phải úp\n"
          ]
        },
        {
          "output_type": "display_data",
          "data": {
            "text/plain": [
              "<Figure size 432x288 with 1 Axes>"
            ],
            "image/png": "[encoded data removed]"
          },
          "metadata": {
            "needs_background": "light"
          }
        }
      ]
    },
    {
      "cell_type": "code",
      "source": [
        "test_img=load_img('/content/drive/MyDrive/PalmHand/Test/palmarRight/Hand_0000270.png',target_size=(64,64))\n",
        "plt.imshow(test_img)\n",
        "test_img= img_to_array(test_img)\n",
        "test_img=test_img/255\n",
        "test_img=np.expand_dims(test_img,axis=0)\n",
        "result=model1.predict(test_img)\n",
        "predict(result)"
      ],
      "metadata": {
        "colab": {
          "base_uri": "https://localhost:8080/",
          "height": 285
        },
        "id": "_ofv8miB8np-",
        "outputId": "aa089db8-3a75-45db-ad8f-3817421cea38"
      },
      "execution_count": null,
      "outputs": [
        {
          "output_type": "stream",
          "name": "stdout",
          "text": [
            "dự đoán: tay phải ngửa\n"
          ]
        },
        {
          "output_type": "display_data",
          "data": {
            "text/plain": [
              "<Figure size 432x288 with 1 Axes>"
            ],
            "image/png": "[encoded data removed]"
          },
          "metadata": {
            "needs_background": "light"
          }
        }
      ]
    },
    {
      "cell_type": "code",
      "source": [
        ""
      ],
      "metadata": {
        "id": "WUSo5niF-PDe"
      },
      "execution_count": null,
      "outputs": []
    }
  ]
}