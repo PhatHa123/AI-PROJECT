{
  "nbformat": 4,
  "nbformat_minor": 0,
  "metadata": {
    "colab": {
      "name": "MoneyClassify.ipynb",
      "provenance": [],
      "collapsed_sections": []
    },
    "kernelspec": {
      "name": "python3",
      "display_name": "Python 3"
    },
    "language_info": {
      "name": "python"
    },
    "accelerator": "GPU"
  },
  "cells": [
    {
      "cell_type": "markdown",
      "source": [
        "# ***IMPORT LIBRARY***\n"
      ],
      "metadata": {
        "id": "HjzXhTUcHcj8"
      }
    },
    {
      "cell_type": "code",
      "execution_count": null,
      "metadata": {
        "id": "AiM7ojR0HFpr"
      },
      "outputs": [],
      "source": [
        "from tensorflow.keras.preprocessing.image import ImageDataGenerator\n",
        "from tensorflow.keras.preprocessing import image\n",
        "from tensorflow.keras.optimizers import SGD, RMSprop\n",
        "from tensorflow.keras.utils import to_categorical\n",
        "import matplotlib.pyplot as plt\n",
        "from tensorflow.keras.models import load_model\n",
        "import tensorflow as  tf\n",
        "import numpy as np\n",
        "import cv2\n",
        "import os\n",
        "from keras.utils import np_utils\n",
        "from tensorflow.keras.callbacks import EarlyStopping, ModelCheckpoint, ReduceLROnPlateau\n",
        "from keras.models import Sequential\n",
        "from keras.layers import Dense,Flatten, Dropout\n",
        "from tensorflow.keras.utils import load_img\n",
        "from tensorflow.keras.utils import img_to_array\n",
        "from keras.layers import Conv2D, MaxPooling2D"
      ]
    },
    {
      "cell_type": "markdown",
      "source": [
        "# ***PREPROCESSING***"
      ],
      "metadata": {
        "id": "V8ksNPEyH6jW"
      }
    },
    {
      "cell_type": "code",
      "source": [
        "train = ImageDataGenerator(rescale = 1./255,\n",
        "                                   shear_range = 0.2,\n",
        "                                   zoom_range = 0.2,\n",
        "                                   horizontal_flip = True)\n",
        "validation = ImageDataGenerator(rescale = 1./255)"
      ],
      "metadata": {
        "id": "LTc4sy-SIKP_"
      },
      "execution_count": null,
      "outputs": []
    },
    {
      "cell_type": "code",
      "source": [
        "train_set=train.flow_from_directory('/content/drive/MyDrive/money/Train',target_size = (64,64),batch_size = 12,class_mode = 'categorical')\n",
        "test_set=validation.flow_from_directory('/content/drive/MyDrive/money/Validation',target_size = (64,64),batch_size = 12,class_mode = 'categorical')"
      ],
      "metadata": {
        "colab": {
          "base_uri": "https://localhost:8080/"
        },
        "id": "K5ZhN5IkHpv9",
        "outputId": "7be81627-8d87-4caa-ae0f-2be6b45bd1dc"
      },
      "execution_count": null,
      "outputs": [
        {
          "output_type": "stream",
          "name": "stdout",
          "text": [
            "Found 110 images belonging to 11 classes.\n",
            "Found 55 images belonging to 11 classes.\n"
          ]
        }
      ]
    },
    {
      "cell_type": "code",
      "source": [
        "train_set.class_indices"
      ],
      "metadata": {
        "colab": {
          "base_uri": "https://localhost:8080/"
        },
        "id": "2HaB6aVOIU04",
        "outputId": "b7e4280b-1912-40be-9ee9-bd1e97b2a2f1"
      },
      "execution_count": null,
      "outputs": [
        {
          "output_type": "execute_result",
          "data": {
            "text/plain": [
              "{'1000': 0,\n",
              " '10000': 1,\n",
              " '100000': 2,\n",
              " '200': 3,\n",
              " '2000': 4,\n",
              " '20000': 5,\n",
              " '200000': 6,\n",
              " '500': 7,\n",
              " '5000': 8,\n",
              " '50000': 9,\n",
              " '500000': 10}"
            ]
          },
          "metadata": {},
          "execution_count": 5
        }
      ]
    },
    {
      "cell_type": "markdown",
      "source": [
        "# ***CREATE MODEL***"
      ],
      "metadata": {
        "id": "uxIRnw7XIer4"
      }
    },
    {
      "cell_type": "code",
      "source": [
        "model = tf.keras.models.Sequential(\n",
        "    [ tf.keras.layers.Conv2D(32,(3,3),activation = 'relu',kernel_initializer='he_uniform',padding='same',input_shape =(64,64,3)),\n",
        "      tf.keras.layers.Conv2D(32,(3,3),activation = 'relu',kernel_initializer='he_uniform',padding='same'),\n",
        "      tf.keras.layers.MaxPool2D(2,2),\n",
        "\n",
        "      tf.keras.layers.Conv2D(32,(3,3),activation = 'relu',kernel_initializer='he_uniform',padding='same'),\n",
        "      tf.keras.layers.Conv2D(32,(3,3),activation = 'relu',kernel_initializer='he_uniform',padding='same'),\n",
        "      tf.keras.layers.MaxPool2D(2,2),\n",
        "\n",
        "      tf.keras.layers.Conv2D(64,(3,3),activation = 'relu',kernel_initializer='he_uniform',padding='same'),\n",
        "      tf.keras.layers.Conv2D(64,(3,3),activation = 'relu',kernel_initializer='he_uniform',padding='same'),\n",
        "      tf.keras.layers.MaxPool2D(2,2),\n",
        "\n",
        "      tf.keras.layers.Conv2D(128,(3,3),activation = 'relu',kernel_initializer='he_uniform',padding='same'),\n",
        "      tf.keras.layers.Conv2D(128,(3,3),activation = 'relu',kernel_initializer='he_uniform',padding='same'),\n",
        "      tf.keras.layers.MaxPool2D(2,2),\n",
        "     \n",
        "      tf.keras.layers.Flatten(),\n",
        "      tf.keras.layers.Dense(256,activation = 'relu',kernel_initializer='he_uniform'),\n",
        "      tf.keras.layers.Dense(11,activation='softmax')])\n",
        "model.summary()"
      ],
      "metadata": {
        "colab": {
          "base_uri": "https://localhost:8080/"
        },
        "id": "iy6VccfUIaCW",
        "outputId": "4397e52a-83d1-46c1-aa87-988ac62b1969"
      },
      "execution_count": null,
      "outputs": [
        {
          "output_type": "stream",
          "name": "stdout",
          "text": [
            "Model: \"sequential\"\n",
            "_________________________________________________________________\n",
            " Layer (type)                Output Shape              Param #   \n",
            "=================================================================\n",
            " conv2d (Conv2D)             (None, 64, 64, 32)        896       \n",
            "                                                                 \n",
            " conv2d_1 (Conv2D)           (None, 64, 64, 32)        9248      \n",
            "                                                                 \n",
            " max_pooling2d (MaxPooling2D  (None, 32, 32, 32)       0         \n",
            " )                                                               \n",
            "                                                                 \n",
            " conv2d_2 (Conv2D)           (None, 32, 32, 32)        9248      \n",
            "                                                                 \n",
            " conv2d_3 (Conv2D)           (None, 32, 32, 32)        9248      \n",
            "                                                                 \n",
            " max_pooling2d_1 (MaxPooling  (None, 16, 16, 32)       0         \n",
            " 2D)                                                             \n",
            "                                                                 \n",
            " conv2d_4 (Conv2D)           (None, 16, 16, 64)        18496     \n",
            "                                                                 \n",
            " conv2d_5 (Conv2D)           (None, 16, 16, 64)        36928     \n",
            "                                                                 \n",
            " max_pooling2d_2 (MaxPooling  (None, 8, 8, 64)         0         \n",
            " 2D)                                                             \n",
            "                                                                 \n",
            " conv2d_6 (Conv2D)           (None, 8, 8, 128)         73856     \n",
            "                                                                 \n",
            " conv2d_7 (Conv2D)           (None, 8, 8, 128)         147584    \n",
            "                                                                 \n",
            " max_pooling2d_3 (MaxPooling  (None, 4, 4, 128)        0         \n",
            " 2D)                                                             \n",
            "                                                                 \n",
            " flatten (Flatten)           (None, 2048)              0         \n",
            "                                                                 \n",
            " dense (Dense)               (None, 256)               524544    \n",
            "                                                                 \n",
            " dense_1 (Dense)             (None, 11)                2827      \n",
            "                                                                 \n",
            "=================================================================\n",
            "Total params: 832,875\n",
            "Trainable params: 832,875\n",
            "Non-trainable params: 0\n",
            "_________________________________________________________________\n"
          ]
        }
      ]
    },
    {
      "cell_type": "code",
      "source": [
        "opt = SGD(lr=0.001, momentum=0.9)\n",
        "model.compile(optimizer=opt, loss='categorical_crossentropy', metrics = ['accuracy'])"
      ],
      "metadata": {
        "colab": {
          "base_uri": "https://localhost:8080/"
        },
        "id": "1bXbIdmcIkCC",
        "outputId": "0dc07c8d-087e-4967-ab86-ef96356fa0cf"
      },
      "execution_count": null,
      "outputs": [
        {
          "output_type": "stream",
          "name": "stderr",
          "text": [
            "/usr/local/lib/python3.7/dist-packages/keras/optimizer_v2/gradient_descent.py:102: UserWarning: The `lr` argument is deprecated, use `learning_rate` instead.\n",
            "  super(SGD, self).__init__(name, **kwargs)\n"
          ]
        }
      ]
    },
    {
      "cell_type": "markdown",
      "source": [
        "# ***TRAIN MODEL***"
      ],
      "metadata": {
        "id": "XHmLZsBhIriy"
      }
    },
    {
      "cell_type": "code",
      "source": [
        "history = model.fit(train_set,batch_size=32,epochs=20,verbose=1,validation_data=test_set)"
      ],
      "metadata": {
        "colab": {
          "base_uri": "https://localhost:8080/"
        },
        "id": "EtbhF-14Iqsa",
        "outputId": "882b81fb-e7e1-4fa5-b855-7c7880c4eb63"
      },
      "execution_count": null,
      "outputs": [
        {
          "output_type": "stream",
          "name": "stdout",
          "text": [
            "Epoch 1/20\n",
            "10/10 [==============================] - 1s 74ms/step - loss: 0.1998 - accuracy: 0.9636 - val_loss: 0.6309 - val_accuracy: 0.8182\n",
            "Epoch 2/20\n",
            "10/10 [==============================] - 1s 66ms/step - loss: 0.1245 - accuracy: 0.9636 - val_loss: 0.3468 - val_accuracy: 0.8545\n",
            "Epoch 3/20\n",
            "10/10 [==============================] - 1s 66ms/step - loss: 0.0776 - accuracy: 0.9818 - val_loss: 0.2953 - val_accuracy: 0.9091\n",
            "Epoch 4/20\n",
            "10/10 [==============================] - 1s 66ms/step - loss: 0.0751 - accuracy: 0.9818 - val_loss: 0.4997 - val_accuracy: 0.8545\n",
            "Epoch 5/20\n",
            "10/10 [==============================] - 1s 68ms/step - loss: 0.0413 - accuracy: 0.9909 - val_loss: 0.5331 - val_accuracy: 0.8727\n",
            "Epoch 6/20\n",
            "10/10 [==============================] - 1s 69ms/step - loss: 0.0340 - accuracy: 0.9909 - val_loss: 0.5461 - val_accuracy: 0.8727\n",
            "Epoch 7/20\n",
            "10/10 [==============================] - 1s 71ms/step - loss: 0.0592 - accuracy: 0.9909 - val_loss: 0.4723 - val_accuracy: 0.8909\n",
            "Epoch 8/20\n",
            "10/10 [==============================] - 1s 69ms/step - loss: 0.0536 - accuracy: 0.9727 - val_loss: 0.4737 - val_accuracy: 0.8364\n",
            "Epoch 9/20\n",
            "10/10 [==============================] - 1s 69ms/step - loss: 0.0846 - accuracy: 0.9636 - val_loss: 0.7867 - val_accuracy: 0.8182\n",
            "Epoch 10/20\n",
            "10/10 [==============================] - 1s 67ms/step - loss: 0.1076 - accuracy: 0.9545 - val_loss: 0.4650 - val_accuracy: 0.8727\n",
            "Epoch 11/20\n",
            "10/10 [==============================] - 1s 67ms/step - loss: 0.0644 - accuracy: 0.9909 - val_loss: 0.6987 - val_accuracy: 0.8364\n",
            "Epoch 12/20\n",
            "10/10 [==============================] - 1s 65ms/step - loss: 0.0931 - accuracy: 0.9545 - val_loss: 0.7531 - val_accuracy: 0.8545\n",
            "Epoch 13/20\n",
            "10/10 [==============================] - 1s 65ms/step - loss: 0.1344 - accuracy: 0.9455 - val_loss: 0.7239 - val_accuracy: 0.8364\n",
            "Epoch 14/20\n",
            "10/10 [==============================] - 1s 66ms/step - loss: 0.0553 - accuracy: 0.9818 - val_loss: 0.4875 - val_accuracy: 0.8727\n",
            "Epoch 15/20\n",
            "10/10 [==============================] - 1s 70ms/step - loss: 0.1490 - accuracy: 0.9818 - val_loss: 0.7149 - val_accuracy: 0.8545\n",
            "Epoch 16/20\n",
            "10/10 [==============================] - 1s 67ms/step - loss: 0.0513 - accuracy: 0.9727 - val_loss: 0.4752 - val_accuracy: 0.8727\n",
            "Epoch 17/20\n",
            "10/10 [==============================] - 1s 66ms/step - loss: 0.0386 - accuracy: 0.9818 - val_loss: 0.7528 - val_accuracy: 0.8364\n",
            "Epoch 18/20\n",
            "10/10 [==============================] - 1s 65ms/step - loss: 0.6597 - accuracy: 0.8182 - val_loss: 1.1976 - val_accuracy: 0.7818\n",
            "Epoch 19/20\n",
            "10/10 [==============================] - 1s 65ms/step - loss: 0.3172 - accuracy: 0.8727 - val_loss: 0.7649 - val_accuracy: 0.7455\n",
            "Epoch 20/20\n",
            "10/10 [==============================] - 1s 70ms/step - loss: 0.3207 - accuracy: 0.8727 - val_loss: 0.7148 - val_accuracy: 0.8182\n"
          ]
        }
      ]
    },
    {
      "cell_type": "markdown",
      "source": [
        "# ***EVALUATE***"
      ],
      "metadata": {
        "id": "T1yVZG1mMT3b"
      }
    },
    {
      "cell_type": "code",
      "source": [
        "plt.plot(history.history['accuracy'])\n",
        "plt.plot(history.history['val_accuracy'])\n",
        "plt.title('Model Accuracy')\n",
        "plt.ylabel('accuracy')\n",
        "plt.xlabel('epoch')\n",
        "plt.legend(['Train','validation'],loc='upper left')\n",
        "plt.show()"
      ],
      "metadata": {
        "colab": {
          "base_uri": "https://localhost:8080/",
          "height": 295
        },
        "id": "WfFj_CyYIxCw",
        "outputId": "62a979b1-18b4-44a2-fa75-0ef92464f466"
      },
      "execution_count": null,
      "outputs": [
        {
          "output_type": "display_data",
          "data": {
            "text/plain": [
              "<Figure size 432x288 with 1 Axes>"
            ],
            "image/png": "[encoded data removed]"
          },
          "metadata": {
            "needs_background": "light"
          }
        }
      ]
    },
    {
      "cell_type": "code",
      "source": [
        "score=model.evaluate(test_set,verbose=1)\n",
        "print('Loss: ',score[0])\n",
        "print('Accuracy: ',score[1])"
      ],
      "metadata": {
        "colab": {
          "base_uri": "https://localhost:8080/"
        },
        "id": "A4F1ogYpI6z0",
        "outputId": "bbaf9f73-3822-47f2-e879-745c6f4788f8"
      },
      "execution_count": null,
      "outputs": [
        {
          "output_type": "stream",
          "name": "stdout",
          "text": [
            "5/5 [==============================] - 0s 41ms/step - loss: 0.7148 - accuracy: 0.8182\n",
            "Loss:  0.7148048877716064\n",
            "Accuracy:  0.8181818127632141\n"
          ]
        }
      ]
    },
    {
      "cell_type": "code",
      "source": [
        "model.save('Money.h5')"
      ],
      "metadata": {
        "id": "5ggFvHBIJEUf"
      },
      "execution_count": null,
      "outputs": []
    },
    {
      "cell_type": "code",
      "source": [
        "from tensorflow.keras.models import load_model\n",
        "model1=load_model('Money.h5')"
      ],
      "metadata": {
        "id": "xDmmBj4JJGcq"
      },
      "execution_count": null,
      "outputs": []
    },
    {
      "cell_type": "markdown",
      "source": [
        "# ***PREDICT***"
      ],
      "metadata": {
        "id": "ZStgErATMEvq"
      }
    },
    {
      "cell_type": "code",
      "source": [
        "def predict(result):\n",
        "  if round(result[0][0])==1:\n",
        "    prediction=\"1000\"\n",
        "  elif round(result[0][1])==1:\n",
        "    prediction=\"10000\"\n",
        "  elif round(result[0][2])==1:\n",
        "    prediction=\"100000\"\n",
        "  elif round(result[0][3])==1:\n",
        "    prediction=\"200\"  \n",
        "  elif round(result[0][4])==1:\n",
        "    prediction=\"2000\" \n",
        "  elif round(result[0][5])==1:\n",
        "    prediction=\"20000\"\n",
        "  elif round(result[0][6])==1:\n",
        "    prediction=\"200000\"  \n",
        "  elif round(result[0][7])==1:\n",
        "    prediction=\"500\" \n",
        "  elif round(result[0][8])==1:\n",
        "    prediction=\"5000\"\n",
        "  elif round(result[0][9])==1:\n",
        "    prediction=\"50000\" \n",
        "  elif round(result[0][10])==1:\n",
        "    prediction=\"500000\"\n",
        "  print('dự đoán:', prediction)\n",
        "  prediction==0"
      ],
      "metadata": {
        "id": "3Xoikf73J4W-"
      },
      "execution_count": null,
      "outputs": []
    },
    {
      "cell_type": "code",
      "source": [
        "test_img=load_img('/content/drive/MyDrive/money/Validation/5000/image (3).png',target_size=(64,64))\n",
        "plt.imshow(test_img)\n",
        "test_img= img_to_array(test_img)\n",
        "test_img=test_img/255\n",
        "test_img=np.expand_dims(test_img,axis=0)\n",
        "result=model.predict(test_img)\n",
        "predict(result)"
      ],
      "metadata": {
        "colab": {
          "base_uri": "https://localhost:8080/",
          "height": 285
        },
        "id": "-f0WmN9UJ_W0",
        "outputId": "2ebb178a-43fe-4665-946a-a73e73ef6311"
      },
      "execution_count": null,
      "outputs": [
        {
          "output_type": "stream",
          "name": "stdout",
          "text": [
            "dự đoán: 5000\n"
          ]
        },
        {
          "output_type": "display_data",
          "data": {
            "text/plain": [
              "<Figure size 432x288 with 1 Axes>"
            ],
            "image/png": "[encoded data removed]"
          },
          "metadata": {
            "needs_background": "light"
          }
        }
      ]
    },
    {
      "cell_type": "code",
      "source": [
        "test_img=load_img('/content/drive/MyDrive/money/Validation/500/image.png',target_size=(64,64))\n",
        "plt.imshow(test_img)\n",
        "test_img= img_to_array(test_img)\n",
        "test_img=test_img/255\n",
        "test_img=np.expand_dims(test_img,axis=0)\n",
        "result=model.predict(test_img)\n",
        "predict(result)"
      ],
      "metadata": {
        "colab": {
          "base_uri": "https://localhost:8080/",
          "height": 285
        },
        "id": "Khzdf0g5Kl_e",
        "outputId": "2f2fcbb0-8ab5-476a-8d25-326610af644d"
      },
      "execution_count": null,
      "outputs": [
        {
          "output_type": "stream",
          "name": "stdout",
          "text": [
            "dự đoán: 500\n"
          ]
        },
        {
          "output_type": "display_data",
          "data": {
            "text/plain": [
              "<Figure size 432x288 with 1 Axes>"
            ],
            "image/png": "[encoded data removed]"
          },
          "metadata": {
            "needs_background": "light"
          }
        }
      ]
    },
    {
      "cell_type": "code",
      "source": [
        "test_img=load_img('/content/drive/MyDrive/money/Validation/10000/image (1).png',target_size=(64,64))\n",
        "plt.imshow(test_img)\n",
        "test_img= img_to_array(test_img)\n",
        "test_img=test_img/255\n",
        "test_img=np.expand_dims(test_img,axis=0)\n",
        "result=model.predict(test_img)\n",
        "predict(result)"
      ],
      "metadata": {
        "colab": {
          "base_uri": "https://localhost:8080/",
          "height": 285
        },
        "id": "Xz6ruobQK4Hh",
        "outputId": "d96f763c-9260-4785-f3f5-eb227419fcd1"
      },
      "execution_count": null,
      "outputs": [
        {
          "output_type": "stream",
          "name": "stdout",
          "text": [
            "dự đoán: 10000\n"
          ]
        },
        {
          "output_type": "display_data",
          "data": {
            "text/plain": [
              "<Figure size 432x288 with 1 Axes>"
            ],
            "image/png": "[encoded data removed]"
          },
          "metadata": {
            "needs_background": "light"
          }
        }
      ]
    },
    {
      "cell_type": "code",
      "source": [
        ""
      ],
      "metadata": {
        "id": "lyBE72P5LzHW"
      },
      "execution_count": null,
      "outputs": []
    }
  ]
}